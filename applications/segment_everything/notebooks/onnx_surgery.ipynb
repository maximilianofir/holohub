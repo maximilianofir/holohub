{
 "cells": [
  {
   "cell_type": "code",
   "execution_count": null,
   "metadata": {},
   "outputs": [],
   "source": [
    "import onnx_graphsurgeon  as gs\n",
    "import onnx"
   ]
  },
  {
   "cell_type": "code",
   "execution_count": null,
   "metadata": {},
   "outputs": [],
   "source": [
    "def make_input_multidimensional(graph, input_name:str):\n",
    "    # try to get the mask input \n",
    "    has_mask_input = [x for x in graph.inputs if x.name==input_name][0]\n",
    "    # change it to 4 dims \n",
    "    has_mask_input.shape = [1, 1, 1, 1]\n",
    "    \n",
    "def add_cast_before_outputs(graph, output_names:list, dtype=onnx.TensorProto.FLOAT):\n",
    "\n",
    "    assert isinstance(output_names, list)\n",
    "    # Process each output name in the provided list\n",
    "    for output_name in output_names:\n",
    "        # Get the specific output to be casted\n",
    "        target_output = [x for x in graph.outputs if x.name == output_name][0]\n",
    "        \n",
    "        # Make a new tensor variable, that will be using fp32\n",
    "        new_output = gs.Variable(name=f\"new_{output_name}\", shape=target_output.shape, dtype=dtype)\n",
    "        \n",
    "        # Make a new node, which performs the type casting\n",
    "        new_casting_node = gs.Node(\"Cast\", f\"cast_{output_name}\", attrs={\"to\": dtype}, inputs=[target_output], outputs=[new_output])\n",
    "        graph.nodes.append(new_casting_node)\n",
    "        \n",
    "        # Adjust the outputs of the graph\n",
    "        graph.outputs.append(new_output)\n",
    "        graph.outputs.remove(target_output)\n",
    "        \n",
    "        # Remove the tensor\n",
    "        target_output.name = f\"{output_name}_outdated\"\n",
    "        \n",
    "        # Rename the new output to the original name\n",
    "        new_output.name = output_name\n",
    "    \n",
    "    # Cleanup and sort the graph\n",
    "    cleaned_graph = graph.cleanup().toposort()\n",
    "\n",
    "    return cleaned_graph"
   ]
  },
  {
   "cell_type": "code",
   "execution_count": null,
   "metadata": {},
   "outputs": [],
   "source": []
  },
  {
   "cell_type": "code",
   "execution_count": null,
   "metadata": {},
   "outputs": [],
   "source": [
    "graph = gs.import_onnx(onnx.load(\"onnx/decoder.onnx\"))\n",
    "make_input_multidimensional(graph, \"has_mask_input\")\n",
    "clean_graph = add_cast_before_outputs(graph=graph,  output_names=[\"iou_predictions\", \"low_res_masks\" ])\n",
    "output_path=\"onnx/casting_decoder.onnx\"\n",
    "# Save the modified ONNX model\n",
    "onnx.save(gs.export_onnx(clean_graph), output_path)"
   ]
  },
  {
   "cell_type": "code",
   "execution_count": null,
   "metadata": {},
   "outputs": [],
   "source": [
    "graph = gs.import_onnx(onnx.load(\"onnx/decoder.onnx\"))"
   ]
  },
  {
   "cell_type": "code",
   "execution_count": null,
   "metadata": {},
   "outputs": [],
   "source": [
    "graph.inputs"
   ]
  },
  {
   "cell_type": "code",
   "execution_count": null,
   "metadata": {},
   "outputs": [],
   "source": []
  }
 ],
 "metadata": {
  "kernelspec": {
   "display_name": "Python 3",
   "language": "python",
   "name": "python3"
  },
  "language_info": {
   "codemirror_mode": {
    "name": "ipython",
    "version": 3
   },
   "file_extension": ".py",
   "mimetype": "text/x-python",
   "name": "python",
   "nbconvert_exporter": "python",
   "pygments_lexer": "ipython3",
   "version": "3.8.10"
  }
 },
 "nbformat": 4,
 "nbformat_minor": 2
}
