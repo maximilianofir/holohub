{
 "cells": [
  {
   "cell_type": "code",
   "execution_count": null,
   "metadata": {},
   "outputs": [],
   "source": [
    "import os \n",
    "import numpy as np \n",
    "import matplotlib.pyplot as plt\n",
    "import re"
   ]
  },
  {
   "cell_type": "code",
   "execution_count": null,
   "metadata": {},
   "outputs": [],
   "source": [
    "import cupy as cp"
   ]
  },
  {
   "cell_type": "code",
   "execution_count": null,
   "metadata": {},
   "outputs": [],
   "source": [
    "cp.__version__"
   ]
  },
  {
   "cell_type": "code",
   "execution_count": null,
   "metadata": {},
   "outputs": [],
   "source": [
    "def get_array_list(word, downloads_folder):\n",
    "    pattern = rf\"{word}_\\d+\\.npy\"\n",
    "    numpy_files = []\n",
    "    for file in os.listdir(downloads_folder):\n",
    "        if re.match(pattern, file):\n",
    "            numpy_files.append(file)\n",
    "\n",
    "    # open each file and save it to a list of numpy arrays\n",
    "    numpy_arrays = []\n",
    "    for file in numpy_files:\n",
    "        numpy_arrays.append(np.load(os.path.join(downloads_folder, file)))\n",
    "    return numpy_arrays\n",
    "\n",
    "def plot_arrays(word, downloads_folder, slice_index=0):\n",
    "    numpy_arrays = get_array_list(word, downloads_folder)\n",
    "    # plot the numpy arrays in a grid based on square root of number of numpy arrays\n",
    "    n = len(numpy_arrays)\n",
    "    n_sqrt = int(np.sqrt(n))\n",
    "    fig, axs = plt.subplots(n_sqrt)\n",
    "\n",
    "    if n == 1:\n",
    "        numpy_array = numpy_arrays[0]\n",
    "        print(numpy_array.flags)\n",
    "        axs.set_title(numpy_array.shape)\n",
    "\n",
    "        if numpy_array.ndim == 3:\n",
    "            sliced_array = numpy_array[slice_index, :, :]\n",
    "        elif numpy_array.ndim == 4:\n",
    "            sliced_array = numpy_array[0, slice_index, :, :]\n",
    "        elif numpy_array.ndim == 2:\n",
    "            sliced_array = numpy_array\n",
    "        else:\n",
    "            raise ValueError(\"numpy array has incorrect number of dimensions\")\n",
    "\n",
    "        axs.imshow(sliced_array)\n",
    "        axs.axis('off')\n",
    "    else:\n",
    "        for i in range(n_sqrt):\n",
    "            for j in range(n_sqrt):\n",
    "                numpy_array = numpy_arrays[i*n_sqrt+j]\n",
    "                print(numpy_array.flags)\n",
    "                axs[i, j].set_title(numpy_array.shape)\n",
    "\n",
    "                if numpy_array.ndim == 3:\n",
    "                    sliced_array = numpy_array[slice_index, :, :]\n",
    "                elif numpy_array.ndim == 4:\n",
    "                    sliced_array = numpy_array[0, slice_index, :, :]\n",
    "                elif numpy_array.ndim == 2:\n",
    "                    sliced_array = numpy_array\n",
    "                else :\n",
    "                    raise ValueError(\"numpy array has incorrect number of dimensions\")\n",
    "                axs[i, j].imshow(sliced_array)\n",
    "                axs[i, j].axis('off')\n",
    "\n",
    "def plot_histograms(word, downloads_folder):\n",
    "    numpy_arrays = get_array_list(word, downloads_folder)\n",
    "    # combine the numpy arrays into  a single numpy array\n",
    "    combined_array = np.concatenate(numpy_arrays, axis=0)\n",
    "    # plot the histogram of the combined numpy array\n",
    "    fig, axs = plt.subplots(1, 1)\n",
    "    axs.hist(combined_array.flatten(), bins=100)\n",
    "    axs.set_title(\"Histogram of combined numpy arrays\")\n",
    "    plt.show()"
   ]
  },
  {
   "cell_type": "code",
   "execution_count": null,
   "metadata": {},
   "outputs": [],
   "source": [
    "downloads_folder = \"downloads/numpy\"\n",
    "word = \"unpadded\"\n",
    "# pattern to match unpadded_0.npy, unpadded_1.npy, etc\n",
    "plot_arrays(word=word, downloads_folder=downloads_folder)"
   ]
  },
  {
   "cell_type": "code",
   "execution_count": null,
   "metadata": {},
   "outputs": [],
   "source": [
    "plot_arrays(word=\"low_res_masks\", downloads_folder=downloads_folder, slice_index=0)\n",
    "plot_histograms(word=\"low_res_masks\", downloads_folder=downloads_folder)\n",
    "\n"
   ]
  },
  {
   "cell_type": "code",
   "execution_count": null,
   "metadata": {},
   "outputs": [],
   "source": [
    "plot_arrays(word=\"scaled\", downloads_folder=downloads_folder, slice_index=3)\n",
    "# plot_histograms(word=\"scaled\", downloads_folder=downloads_folder)\n",
    "\n"
   ]
  },
  {
   "cell_type": "code",
   "execution_count": null,
   "metadata": {},
   "outputs": [],
   "source": [
    "# plot_arrays(word=\"expanded\", downloads_folder=downloads_folder, slice_index=0)\n"
   ]
  },
  {
   "cell_type": "code",
   "execution_count": null,
   "metadata": {},
   "outputs": [],
   "source": [
    "plot_arrays(word=\"thresholded\", downloads_folder=downloads_folder, slice_index=0)\n",
    "plot_histograms(word=\"thresholded\", downloads_folder=downloads_folder)\n",
    "\n"
   ]
  },
  {
   "cell_type": "code",
   "execution_count": null,
   "metadata": {},
   "outputs": [],
   "source": [
    "\n",
    "plot_arrays(word=\"unpadded\", downloads_folder=downloads_folder, slice_index=0)\n",
    "plot_histograms(word=\"unpadded\", downloads_folder=downloads_folder)\n"
   ]
  },
  {
   "cell_type": "code",
   "execution_count": null,
   "metadata": {},
   "outputs": [],
   "source": [
    "filepath = \"/workspace/volumes/forks/holohub/applications/segment_everything/downloads/numpy/image_embeddings_0.npy\"\n",
    "embeddings = np.load(filepath)"
   ]
  },
  {
   "cell_type": "code",
   "execution_count": null,
   "metadata": {},
   "outputs": [],
   "source": [
    "plt.imshow(embeddings[0,0,...])\n",
    "if np.isnan(embeddings).all():\n",
    "    print(\"All values are nan\")"
   ]
  },
  {
   "cell_type": "code",
   "execution_count": null,
   "metadata": {},
   "outputs": [],
   "source": [
    "word = \"input\"\n",
    "filepath = f\"/workspace/volumes/forks/holohub/applications/segment_everything/downloads/numpy/{word}_0.npy\"\n",
    "array = np.load(filepath)"
   ]
  },
  {
   "cell_type": "code",
   "execution_count": null,
   "metadata": {},
   "outputs": [],
   "source": [
    "print(array.shape, array.dtype)\n",
    "plt.hist(array.flatten())"
   ]
  },
  {
   "cell_type": "code",
   "execution_count": null,
   "metadata": {},
   "outputs": [],
   "source": [
    "plt.imshow(array[0,0, ...])\n",
    "if np.isnan(array).all():\n",
    "    print(\"All valu n\")"
   ]
  },
  {
   "cell_type": "code",
   "execution_count": null,
   "metadata": {},
   "outputs": [],
   "source": []
  }
 ],
 "metadata": {
  "kernelspec": {
   "display_name": "Python 3",
   "language": "python",
   "name": "python3"
  },
  "language_info": {
   "codemirror_mode": {
    "name": "ipython",
    "version": 3
   },
   "file_extension": ".py",
   "mimetype": "text/x-python",
   "name": "python",
   "nbconvert_exporter": "python",
   "pygments_lexer": "ipython3",
   "version": "3.10.12"
  }
 },
 "nbformat": 4,
 "nbformat_minor": 2
}
